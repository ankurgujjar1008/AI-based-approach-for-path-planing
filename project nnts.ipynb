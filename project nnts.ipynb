{
  "nbformat": 4,
  "nbformat_minor": 0,
  "metadata": {
    "colab": {
      "provenance": []
    },
    "kernelspec": {
      "name": "python3",
      "display_name": "Python 3"
    },
    "language_info": {
      "name": "python"
    }
  },
  "cells": [
    {
      "cell_type": "code",
      "source": [
        "!pip install matplotlib"
      ],
      "metadata": {
        "colab": {
          "base_uri": "https://localhost:8080/"
        },
        "id": "Bo95XGCvr_ZW",
        "outputId": "b62f71df-55eb-490c-dae1-907fa650d1f1"
      },
      "execution_count": 1,
      "outputs": [
        {
          "output_type": "stream",
          "name": "stdout",
          "text": [
            "Requirement already satisfied: matplotlib in /usr/local/lib/python3.10/dist-packages (3.7.1)\n",
            "Requirement already satisfied: contourpy>=1.0.1 in /usr/local/lib/python3.10/dist-packages (from matplotlib) (1.2.1)\n",
            "Requirement already satisfied: cycler>=0.10 in /usr/local/lib/python3.10/dist-packages (from matplotlib) (0.12.1)\n",
            "Requirement already satisfied: fonttools>=4.22.0 in /usr/local/lib/python3.10/dist-packages (from matplotlib) (4.53.1)\n",
            "Requirement already satisfied: kiwisolver>=1.0.1 in /usr/local/lib/python3.10/dist-packages (from matplotlib) (1.4.5)\n",
            "Requirement already satisfied: numpy>=1.20 in /usr/local/lib/python3.10/dist-packages (from matplotlib) (1.26.4)\n",
            "Requirement already satisfied: packaging>=20.0 in /usr/local/lib/python3.10/dist-packages (from matplotlib) (24.1)\n",
            "Requirement already satisfied: pillow>=6.2.0 in /usr/local/lib/python3.10/dist-packages (from matplotlib) (9.4.0)\n",
            "Requirement already satisfied: pyparsing>=2.3.1 in /usr/local/lib/python3.10/dist-packages (from matplotlib) (3.1.2)\n",
            "Requirement already satisfied: python-dateutil>=2.7 in /usr/local/lib/python3.10/dist-packages (from matplotlib) (2.8.2)\n",
            "Requirement already satisfied: six>=1.5 in /usr/local/lib/python3.10/dist-packages (from python-dateutil>=2.7->matplotlib) (1.16.0)\n"
          ]
        }
      ]
    },
    {
      "cell_type": "code",
      "source": [
        "import heapq\n",
        "import matplotlib.pyplot as plt\n",
        "import random"
      ],
      "metadata": {
        "id": "ypXemO28sVJZ"
      },
      "execution_count": 2,
      "outputs": []
    },
    {
      "cell_type": "code",
      "source": [
        "# Define the grid size\n",
        "grid_size = 10\n",
        "\n",
        "# Randomly select the percentage of obstacles\n",
        "obstacle_percentage = random.uniform(0.05, 0.44)\n",
        "\n",
        "# Create a random grid with obstacles\n",
        "grid = [[0 for _ in range(grid_size)] for _ in range(grid_size)]\n",
        "for _ in range(int(grid_size * grid_size * obstacle_percentage)):\n",
        "    x, y = random.randint(0, grid_size - 1), random.randint(0, grid_size - 1)\n",
        "    grid[x][y] = 1"
      ],
      "metadata": {
        "id": "o_lxiZzwtPBQ"
      },
      "execution_count": 3,
      "outputs": []
    },
    {
      "cell_type": "code",
      "source": [
        "# Define the start position\n",
        "start = (0, 0)\n",
        "\n",
        "# Randomly select the target position\n",
        "target = (random.randint(0, grid_size - 1), random.randint(0, grid_size - 1))\n",
        "while grid[target[0]][target[1]] == 1:  # make sure the target is not an obstacle\n",
        "    target = (random.randint(0, grid_size - 1), random.randint(0, grid_size - 1))"
      ],
      "metadata": {
        "id": "M5uFUX-8uJ6X"
      },
      "execution_count": 4,
      "outputs": []
    },
    {
      "cell_type": "code",
      "source": [
        "# Implement the Dijkstra algorithm\n",
        "def dijkstra(grid, start, target):\n",
        "    distances = {(i, j): float('infinity') for i in range(len(grid)) for j in range(len(grid[0]))}\n",
        "    distances[start] = 0\n",
        "    queue = [(0, start)]\n",
        "    while queue:\n",
        "        current_distance, current_cell = heapq.heappop(queue)\n",
        "        if current_distance > distances[current_cell]:\n",
        "            continue\n",
        "        for neighbor in [(current_cell[0]+dr[0], current_cell[1]+dr[1]) for dr in [(-1,0), (1,0), (0,-1), (0,1)] if 0 <= current_cell[0]+dr[0] < len(grid) and 0 <= current_cell[1]+dr[1] < len(grid[0])]:\n",
        "            if grid[neighbor[0]][neighbor[1]] == 1:  # skip obstacles\n",
        "                continue\n",
        "            distance = current_distance + 1\n",
        "            if distance < distances[neighbor]:\n",
        "                distances[neighbor] = distance\n",
        "                heapq.heappush(queue, (distance, neighbor))\n",
        "    return distances"
      ],
      "metadata": {
        "id": "UQQKVTRjtUbt"
      },
      "execution_count": 5,
      "outputs": []
    },
    {
      "cell_type": "code",
      "source": [
        "# Run the Dijkstra algorithm\n",
        "distances = dijkstra(grid, start, target)"
      ],
      "metadata": {
        "id": "geFuD3mktXuV"
      },
      "execution_count": 6,
      "outputs": []
    },
    {
      "cell_type": "code",
      "source": [
        "# Visualize the path\n",
        "def visualize_path(grid, distances, start, target):\n",
        "    path = [target]\n",
        "    while path[-1] != start:\n",
        "        min_distance = float('infinity')\n",
        "        next_cell = None\n",
        "        for cell in [(path[-1][0]+dr[0], path[-1][1]+dr[1]) for dr in [(-1,0), (1,0), (0,-1), (0,1)] if 0 <= path[-1][0]+dr[0] < len(grid) and 0 <= path[-1][1]+dr[1] < len(grid[0])]:\n",
        "            if grid[cell[0]][cell[1]] == 1:  # skip obstacles\n",
        "                continue\n",
        "            if distances[cell] < min_distance:\n",
        "                min_distance = distances[cell]\n",
        "                next_cell = cell\n",
        "        if next_cell is None:  # if no next cell is found, break the loop\n",
        "            break\n",
        "        path.append(next_cell)\n",
        "    path.reverse()\n",
        "    plt.imshow([[0 if cell == 0 else 1 for cell in row] for row in grid], cmap='gray')\n",
        "    plt.plot([p[1] for p in path], [p[0] for p in path], 'r-')\n",
        "    plt.scatter(target[1], target[0], c='g', marker='*', s=100)  # mark the target position\n",
        "    plt.show()\n",
        "\n",
        "visualize_path(grid, distances, start, target)\n"
      ],
      "metadata": {
        "colab": {
          "base_uri": "https://localhost:8080/",
          "height": 430
        },
        "id": "_N5PFMYstZ8B",
        "outputId": "7f1f1e73-cf48-47ac-8f3e-28276ea1ad67"
      },
      "execution_count": 7,
      "outputs": [
        {
          "output_type": "display_data",
          "data": {
            "text/plain": [
              "<Figure size 640x480 with 1 Axes>"
            ],
            "image/png": "[encoded data removed]"
          },
          "metadata": {}
        }
      ]
    }
  ]
}